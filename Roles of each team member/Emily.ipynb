{
 "cells": [
  {
   "cell_type": "markdown",
   "id": "003c5505-a1e8-42cf-9e85-a284e7486b2a",
   "metadata": {},
   "source": [
    "For this project, Emily created the diagram of our process and wrote the summary."
   ]
  }
 ],
 "metadata": {
  "kernelspec": {
   "display_name": "Julia 1.8.0",
   "language": "julia",
   "name": "julia-1.8"
  },
  "language_info": {
   "file_extension": ".jl",
   "mimetype": "application/julia",
   "name": "julia",
   "version": "1.8.0"
  }
 },
 "nbformat": 4,
 "nbformat_minor": 5
}
