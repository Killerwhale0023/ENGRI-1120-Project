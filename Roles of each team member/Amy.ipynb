{
 "cells": [
  {
   "cell_type": "markdown",
   "id": "3ff3e442-c317-4d3d-9d4c-7c7bf2ece98d",
   "metadata": {},
   "source": [
    "For this project, Amy wrote the flux and financial analysis."
   ]
  }
 ],
 "metadata": {
  "kernelspec": {
   "display_name": "Julia 1.8.0",
   "language": "julia",
   "name": "julia-1.8"
  },
  "language_info": {
   "file_extension": ".jl",
   "mimetype": "application/julia",
   "name": "julia",
   "version": "1.8.0"
  }
 },
 "nbformat": 4,
 "nbformat_minor": 5
}
