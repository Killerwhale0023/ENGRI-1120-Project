{
 "cells": [
  {
   "cell_type": "markdown",
   "id": "4f641c5c-08c3-4410-baef-404f37e7c74b",
   "metadata": {},
   "source": [
    "For this project, Thomas created the powerpoint and edited the video."
   ]
  }
 ],
 "metadata": {
  "kernelspec": {
   "display_name": "Julia 1.8.0",
   "language": "julia",
   "name": "julia-1.8"
  },
  "language_info": {
   "file_extension": ".jl",
   "mimetype": "application/julia",
   "name": "julia",
   "version": "1.8.0"
  }
 },
 "nbformat": 4,
 "nbformat_minor": 5
}
