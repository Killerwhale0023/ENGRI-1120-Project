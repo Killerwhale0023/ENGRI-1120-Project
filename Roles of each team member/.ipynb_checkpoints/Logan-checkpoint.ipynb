{
 "cells": [
  {
   "cell_type": "markdown",
   "id": "0e22c954-8738-4040-bd41-4aa93575ff38",
   "metadata": {},
   "source": [
    "For this porject, Logan wrote the introduction paragraphs."
   ]
  }
 ],
 "metadata": {
  "kernelspec": {
   "display_name": "Julia 1.8.0",
   "language": "julia",
   "name": "julia-1.8"
  },
  "language_info": {
   "file_extension": ".jl",
   "mimetype": "application/julia",
   "name": "julia",
   "version": "1.8.0"
  }
 },
 "nbformat": 4,
 "nbformat_minor": 5
}
