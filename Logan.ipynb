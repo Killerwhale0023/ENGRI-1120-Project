{
 "cells": [
  {
   "cell_type": "code",
   "execution_count": null,
   "id": "c2546d73-00e5-47c9-8be3-23be755abcca",
   "metadata": {},
   "outputs": [],
   "source": []
  }
 ],
 "metadata": {
  "kernelspec": {
   "display_name": "Julia 1.8.0",
   "language": "julia",
   "name": "julia-1.8"
  },
  "language_info": {
   "file_extension": ".jl",
   "mimetype": "application/julia",
   "name": "julia",
   "version": "1.8.0"
  }
 },
 "nbformat": 4,
 "nbformat_minor": 5
}
print ("Logan")
