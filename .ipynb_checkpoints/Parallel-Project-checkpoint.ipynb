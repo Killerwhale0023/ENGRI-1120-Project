{
 "cells": [
  {
   "cell_type": "markdown",
   "id": "23e6742b-9c1b-473a-af2e-40ba90ff883f",
   "metadata": {},
   "source": [
    "# ENGRI 1120: Parallel Cell-free Production and Recovery of the mRNA BNT-162b2 Vaccine"
   ]
  },
  {
   "cell_type": "markdown",
   "id": "dbfbf87e-4766-4f57-884f-4f57c390cd3e",
   "metadata": {},
   "source": [
    "#### Amy Wu asw254\n",
    "#### Thomas Vignos tjv37\n",
    "#### Emily Destito ebd48\n",
    "#### Logan Taylor alt66"
   ]
  },
  {
   "cell_type": "markdown",
   "id": "2d32595c-0fe0-41e1-9ca8-c259671d0948",
   "metadata": {},
   "source": [
    "<img src=\"1120-Final-Diagram.png\" style=\"width:100%\">"
   ]
  },
  {
   "cell_type": "markdown",
   "id": "e2d1b90e-e590-4489-a136-16c74f81ccc5",
   "metadata": {},
   "source": [
    "## Introduction\n",
    "The Pfizer produced COVID-19 mRNA vaccine was the most widely used vaccine in 2021 and its production and use saved countless lives. The primary component in the vaccine is the COVID-19 BNT162b2 mRNA which is combined with 4 lipid components to produce the injection ready vaccine. The vaccine works by delivering the mRNA to cells which then produce the COVID-19 spike protein. Naturally produced antibodies then attack the proteins leading to the production of COVID-19 spike protein specific T-cells. In the event that the person vaccinated would come in contact with the COVID-19 virus they would already be equipped with the spike protein specific T-cells which would destroy that protein in the COVID-19 virus and render it harmless. \n",
    "\n",
    "Our BNT162b2 mRNA system produces 99% pure mRNA at 0.1 micromoles per minute. Our system starts with 2 mixes, one comprising the BNT162b2 gene and the other the PURExpres, at 25℃. These mixes get pumped through a heat exchanger and brought up to 37℃ where they are split up among the 20 chips. The products are then all brought to a mixer before they go through another heat exchanger and brought down to -25℃ for optimal storage. Our product stream is then sent through 4 separating units before the 99% pure mRNA is sent into a storage unit. In total the system is made up of 2 pumps, 3 heat exchangers, 2 splitters, 20 chips, 1 mixer, 4 99% efficiency separating units, and 2 storage units.\n",
    "\n",
    "Our system has a relatively low starting equipment cost of $\\$6,255$ and the vast majority of our expenses come from the material cost which equates to $\\$137,894,400$ per year. The majority of the cost is from the PURExpress. If we sold our mRNA at 4,993.39 per micromole, (our NPV zero price) then we would have a yearly profit of $52,498,019.24. "
   ]
  },
  {
   "cell_type": "markdown",
   "id": "76c3d9a2-9965-4c36-90bd-392230585eca",
   "metadata": {
    "tags": []
   },
   "source": [
    "## Materials and Methods"
   ]
  },
  {
   "cell_type": "markdown",
   "id": "c992adca-0680-42cc-89d5-74b8d9c659b6",
   "metadata": {
    "tags": []
   },
   "source": [
    "### Project Setup"
   ]
  },
  {
   "cell_type": "code",
   "execution_count": 1,
   "id": "9087f9c8-fc35-4c16-9e4d-bd1ac8f71a2f",
   "metadata": {},
   "outputs": [
    {
     "name": "stderr",
     "output_type": "stream",
     "text": [
      "\u001b[32m\u001b[1m  Activating\u001b[22m\u001b[39m project at `~/Documents/GitHub/ENGRI-1120-Project`\n",
      "\u001b[32m\u001b[1m  No Changes\u001b[22m\u001b[39m to `~/Documents/GitHub/ENGRI-1120-Project/Project.toml`\n",
      "\u001b[32m\u001b[1m  No Changes\u001b[22m\u001b[39m to `~/Documents/GitHub/ENGRI-1120-Project/Manifest.toml`\n",
      "\u001b[32m\u001b[1m    Updating\u001b[22m\u001b[39m registry at `~/.julia/registries/General.toml`\n",
      "\u001b[32m\u001b[1m   Resolving\u001b[22m\u001b[39m package versions...\n",
      "\u001b[32m\u001b[1m  No Changes\u001b[22m\u001b[39m to `~/Documents/GitHub/ENGRI-1120-Project/Project.toml`\n",
      "\u001b[32m\u001b[1m  No Changes\u001b[22m\u001b[39m to `~/Documents/GitHub/ENGRI-1120-Project/Manifest.toml`\n",
      "\u001b[32m\u001b[1m   Resolving\u001b[22m\u001b[39m package versions...\n",
      "\u001b[32m\u001b[1m  No Changes\u001b[22m\u001b[39m to `~/Documents/GitHub/ENGRI-1120-Project/Project.toml`\n",
      "\u001b[32m\u001b[1m  No Changes\u001b[22m\u001b[39m to `~/Documents/GitHub/ENGRI-1120-Project/Manifest.toml`\n",
      "\u001b[32m\u001b[1m   Resolving\u001b[22m\u001b[39m package versions...\n",
      "\u001b[32m\u001b[1m  No Changes\u001b[22m\u001b[39m to `~/Documents/GitHub/ENGRI-1120-Project/Project.toml`\n",
      "\u001b[32m\u001b[1m  No Changes\u001b[22m\u001b[39m to `~/Documents/GitHub/ENGRI-1120-Project/Manifest.toml`\n",
      "\u001b[32m\u001b[1m   Resolving\u001b[22m\u001b[39m package versions...\n",
      "\u001b[32m\u001b[1m  No Changes\u001b[22m\u001b[39m to `~/Documents/GitHub/ENGRI-1120-Project/Project.toml`\n",
      "\u001b[32m\u001b[1m  No Changes\u001b[22m\u001b[39m to `~/Documents/GitHub/ENGRI-1120-Project/Manifest.toml`\n",
      "\u001b[32m\u001b[1m   Resolving\u001b[22m\u001b[39m package versions...\n",
      "\u001b[32m\u001b[1m  No Changes\u001b[22m\u001b[39m to `~/Documents/GitHub/ENGRI-1120-Project/Project.toml`\n",
      "\u001b[32m\u001b[1m  No Changes\u001b[22m\u001b[39m to `~/Documents/GitHub/ENGRI-1120-Project/Manifest.toml`\n"
     ]
    }
   ],
   "source": [
    "import Pkg; Pkg.activate(\".\"); Pkg.resolve(); Pkg.instantiate();\n",
    "import Pkg; Pkg.add(\"JLD2\")\n",
    "import Pkg; Pkg.add(\"FileIO\")\n",
    "import Pkg; Pkg.add(\"PrettyTables\")\n",
    "import Pkg; Pkg.add(\"DataFrames\")\n",
    "import Pkg; Pkg.add(\"GLPK\")"
   ]
  },
  {
   "cell_type": "code",
   "execution_count": 2,
   "id": "8b6f5e95-6b27-4294-82a1-0d36c8043946",
   "metadata": {},
   "outputs": [],
   "source": [
    "# load reqd packages and set paths -\n",
    "using JLD2\n",
    "using FileIO\n",
    "using PrettyTables\n",
    "using DataFrames\n",
    "using GLPK\n",
    "\n",
    "# setup paths -\n",
    "const _ROOT = pwd();\n",
    "const _PATH_TO_DATA = joinpath(_ROOT);#, \"data\");"
   ]
  },
  {
   "cell_type": "markdown",
   "id": "d92ba20b-7096-4cb5-9dcf-4375a8abc3b5",
   "metadata": {},
   "source": [
    "#### Load the project code library\n",
    "The call to the `include` function loads the `ENGRI-1120-Project-CodeLib.jl` library into the notebook; the library contains functions we can use during the project. In particular, it includes the function:\n",
    "\n",
    "* The `compute_optimal_extent(stoichiometric_matrix::Array{Float64,2}, default_bounds_array::Array{Float64,2},\n",
    "    species_bounds_array::Array{Float64,2}, objective_coefficient_array::Array{Float64,1}; min_flag::Bool = true) -> Tuple` function calls the [GLPK](https://www.gnu.org/software/glpk/) linear program solver. The `results` tuple contains several things, but the important ones are `calculated_flux_array`, `objective_value`, and the status/exit flags `status_flag` and `exit_flag` (which let us know if the solver successfully found a solution).\n",
    "* The `build(model::Type{MSULatticeModel}; ṅₒ::Float64, L::Int64, u::Float64, d::Float64) -> MSULatticeModel` function builds a [Binary tree](https://en.wikipedia.org/wiki/Binary_tree) of Magical Separation Units (MSUs). Arguments: $ṅₒ$ denotes the species mole flow rate into the separation system, $L$ denotes the number of layers of the tree, $u$ denotes the `up` factor (split for the `up` path), and $d$ denotes the `down` factor (the split for the `down` path). This function returns the `MSULatticeModel` model, which contains the column array `data` holding the species mole flow rate for each node in the tree. \n",
    "* The `build_nodes_dictionary(levels::Int64) -> Dict{Int64,Array{Int64,1}}` function constructs a dictionary of node indexes for each level of the tree; keys are the tree levels."
   ]
  },
  {
   "cell_type": "code",
   "execution_count": 3,
   "id": "643bb3f5-8a44-4d10-8aaf-bac7c94ec962",
   "metadata": {},
   "outputs": [],
   "source": [
    "include(\"ENGRI-1120-Project-CodeLib.jl\");"
   ]
  },
  {
   "cell_type": "code",
   "execution_count": 4,
   "id": "a3090808-15ee-44ba-ac55-2097a7a9f9c5",
   "metadata": {},
   "outputs": [
    {
     "data": {
      "text/plain": [
       "Dict{String, Any} with 7 entries:\n",
       "  \"stochiometric_matrix\" => [-1.0 0.0 … 0.0 -1.0; -1.0 0.0 … -1.0 0.0; … ; 1.0 …\n",
       "  \"list_of_reactions\"    => [\"TX_BNT_162b2_binding\", \"TX_BNT_162b2_open\", \"BNT_…\n",
       "  \"reaction_table\"       => \u001b[1m6×7 DataFrame\u001b[0m…\n",
       "  \"flux_bounds_array\"    => [-1000.0 1000.0; 0.0 1000.0; … ; 0.0 1000.0; 0.0 10…\n",
       "  \"mRNA_sequence\"        => ['C', 'U', 'C', 'U', 'U', 'A', 'U', 'U', 'U', 'G'  …\n",
       "  \"list_of_species\"      => [\"G_BNT_162b2\", \"T7RNAP\", \"M_atp_c\", \"M_utp_c\", \"M_…\n",
       "  \"gene_sequence\"        => ['G', 'A', 'G', 'A', 'A', 'T', 'A', 'A', 'A', 'C'  …"
      ]
     },
     "execution_count": 4,
     "metadata": {},
     "output_type": "execute_result"
    }
   ],
   "source": [
    "# load the model file -\n",
    "model = load(joinpath(_PATH_TO_DATA, \"ENGRI-1120-BNT162b2-Model.jld2\"))[\"model\"]"
   ]
  },
  {
   "cell_type": "code",
   "execution_count": 5,
   "id": "a5dcb1bf-32c2-449c-ae06-a55f44ec0994",
   "metadata": {},
   "outputs": [],
   "source": [
    "# get stuff from the model data structure -\n",
    "S = model[\"stochiometric_matrix\"]; # fix the spelling in the model file\n",
    "flux_bounds_array = model[\"flux_bounds_array\"];\n",
    "list_of_species = model[\"list_of_species\"];\n",
    "list_of_reactions = model[\"list_of_reactions\"];\n",
    "reaction_table = model[\"reaction_table\"];\n",
    "gene_sequence = model[\"gene_sequence\"];"
   ]
  },
  {
   "cell_type": "code",
   "execution_count": 6,
   "id": "55db9867-ef5f-415f-908a-4f8be8338f4b",
   "metadata": {},
   "outputs": [
    {
     "data": {
      "text/html": [
       "<div><div style = \"float: left;\"><span>6×7 DataFrame</span></div><div style = \"clear: both;\"></div></div><div class = \"data-frame\" style = \"overflow-x: scroll;\"><table class = \"data-frame\" style = \"margin-bottom: 6px;\"><thead><tr class = \"header\"><th class = \"rowNumber\" style = \"font-weight: bold; text-align: right;\">Row</th><th style = \"text-align: left;\">id</th><th style = \"text-align: left;\">forward</th><th style = \"text-align: left;\">reverse</th><th style = \"text-align: left;\">reversibility</th><th style = \"text-align: left;\">LB</th><th style = \"text-align: left;\">UB</th><th style = \"text-align: left;\">ec</th></tr><tr class = \"subheader headerLastRow\"><th class = \"rowNumber\" style = \"font-weight: bold; text-align: right;\"></th><th title = \"String\" style = \"text-align: left;\">String</th><th title = \"String\" style = \"text-align: left;\">String</th><th title = \"String\" style = \"text-align: left;\">String</th><th title = \"Bool\" style = \"text-align: left;\">Bool</th><th title = \"Union{Missing, Float64}\" style = \"text-align: left;\">Float64?</th><th title = \"Union{Missing, Float64}\" style = \"text-align: left;\">Float64?</th><th title = \"Union{Missing, String}\" style = \"text-align: left;\">String?</th></tr></thead><tbody><tr><td class = \"rowNumber\" style = \"font-weight: bold; text-align: right;\">1</td><td style = \"text-align: left;\">TX_BNT_162b2_binding</td><td style = \"text-align: left;\">G_BNT_162b2+T7RNAP</td><td style = \"text-align: left;\">G_BNT_162b2_T7RNAP_closed</td><td style = \"text-align: right;\">true</td><td style = \"text-align: right;\">-Inf</td><td style = \"text-align: right;\">Inf</td><td style = \"font-style: italic; text-align: left;\">missing</td></tr><tr><td class = \"rowNumber\" style = \"font-weight: bold; text-align: right;\">2</td><td style = \"text-align: left;\">TX_BNT_162b2_open</td><td style = \"text-align: left;\">G_BNT_162b2_T7RNAP_closed</td><td style = \"text-align: left;\">G_BNT_162b2_T7RNAP_open</td><td style = \"text-align: right;\">false</td><td style = \"text-align: right;\">0.0</td><td style = \"text-align: right;\">Inf</td><td style = \"font-style: italic; text-align: left;\">missing</td></tr><tr><td class = \"rowNumber\" style = \"font-weight: bold; text-align: right;\">3</td><td style = \"text-align: left;\">BNT_162b2_transcription</td><td style = \"text-align: left;\">G_BNT_162b2_T7RNAP_open+798*M_atp_c+1004*M_utp_c+1060*M_ctp_c+1312*M_gtp_c</td><td style = \"text-align: left;\">mRNA_BNT_162b2+G_BNT_162b2+T7RNAP+4174*M_ppi_c</td><td style = \"text-align: right;\">false</td><td style = \"text-align: right;\">0.0</td><td style = \"text-align: right;\">Inf</td><td style = \"text-align: left;\">2.7.7.6</td></tr><tr><td class = \"rowNumber\" style = \"font-weight: bold; text-align: right;\">4</td><td style = \"text-align: left;\">mRNA_BNT_162b2_degradation</td><td style = \"text-align: left;\">mRNA_BNT_162b2</td><td style = \"text-align: left;\">798*M_amp_c+1004*M_ump_c+1060*M_cmp_c+1312*M_gmp_c</td><td style = \"text-align: right;\">false</td><td style = \"text-align: right;\">0.0</td><td style = \"text-align: right;\">Inf</td><td style = \"font-style: italic; text-align: left;\">missing</td></tr><tr><td class = \"rowNumber\" style = \"font-weight: bold; text-align: right;\">5</td><td style = \"text-align: left;\">RNAP_deactivation</td><td style = \"text-align: left;\">T7RNAP</td><td style = \"text-align: left;\">T7RNAP_inactive</td><td style = \"text-align: right;\">false</td><td style = \"text-align: right;\">0.0</td><td style = \"text-align: right;\">Inf</td><td style = \"font-style: italic; text-align: left;\">missing</td></tr><tr><td class = \"rowNumber\" style = \"font-weight: bold; text-align: right;\">6</td><td style = \"text-align: left;\">GENE_deactivation</td><td style = \"text-align: left;\">G_BNT_162b2</td><td style = \"text-align: left;\">G_BNT_162b2_inactive</td><td style = \"text-align: right;\">false</td><td style = \"text-align: right;\">0.0</td><td style = \"text-align: right;\">Inf</td><td style = \"font-style: italic; text-align: left;\">missing</td></tr></tbody></table></div>"
      ],
      "text/latex": [
       "\\begin{tabular}{r|ccc}\n",
       "\t& id & forward & \\\\\n",
       "\t\\hline\n",
       "\t& String & String & \\\\\n",
       "\t\\hline\n",
       "\t1 & TX\\_BNT\\_162b2\\_binding & G\\_BNT\\_162b2+T7RNAP & $\\dots$ \\\\\n",
       "\t2 & TX\\_BNT\\_162b2\\_open & G\\_BNT\\_162b2\\_T7RNAP\\_closed & $\\dots$ \\\\\n",
       "\t3 & BNT\\_162b2\\_transcription & G\\_BNT\\_162b2\\_T7RNAP\\_open+798*M\\_atp\\_c+1004*M\\_utp\\_c+1060*M\\_ctp\\_c+1312*M\\_gtp\\_c & $\\dots$ \\\\\n",
       "\t4 & mRNA\\_BNT\\_162b2\\_degradation & mRNA\\_BNT\\_162b2 & $\\dots$ \\\\\n",
       "\t5 & RNAP\\_deactivation & T7RNAP & $\\dots$ \\\\\n",
       "\t6 & GENE\\_deactivation & G\\_BNT\\_162b2 & $\\dots$ \\\\\n",
       "\\end{tabular}\n"
      ],
      "text/plain": [
       "\u001b[1m6×7 DataFrame\u001b[0m\n",
       "\u001b[1m Row \u001b[0m│\u001b[1m id                         \u001b[0m\u001b[1m forward                           \u001b[0m\u001b[1m reverse \u001b[0m ⋯\n",
       "     │\u001b[90m String                     \u001b[0m\u001b[90m String                            \u001b[0m\u001b[90m String  \u001b[0m ⋯\n",
       "─────┼──────────────────────────────────────────────────────────────────────────\n",
       "   1 │ TX_BNT_162b2_binding        G_BNT_162b2+T7RNAP                 G_BNT_16 ⋯\n",
       "   2 │ TX_BNT_162b2_open           G_BNT_162b2_T7RNAP_closed          G_BNT_16\n",
       "   3 │ BNT_162b2_transcription     G_BNT_162b2_T7RNAP_open+798*M_at…  mRNA_BNT\n",
       "   4 │ mRNA_BNT_162b2_degradation  mRNA_BNT_162b2                     798*M_am\n",
       "   5 │ RNAP_deactivation           T7RNAP                             T7RNAP_i ⋯\n",
       "   6 │ GENE_deactivation           G_BNT_162b2                        G_BNT_16\n",
       "\u001b[36m                                                               5 columns omitted\u001b[0m"
      ]
     },
     "execution_count": 6,
     "metadata": {},
     "output_type": "execute_result"
    }
   ],
   "source": [
    "reaction_table"
   ]
  },
  {
   "cell_type": "code",
   "execution_count": 7,
   "id": "117417d4-2690-4a3a-8be5-5404e313fc56",
   "metadata": {},
   "outputs": [],
   "source": [
    "# How many species and reactions?\n",
    "(ℳ, ℛ) = size(S);"
   ]
  },
  {
   "cell_type": "code",
   "execution_count": 8,
   "id": "8208533f-04f4-4039-8a7b-44be76fce2d0",
   "metadata": {
    "tags": []
   },
   "outputs": [
    {
     "name": "stdout",
     "output_type": "stream",
     "text": [
      "┌───────┬───────────────────────────┐\n",
      "│\u001b[1m Index \u001b[0m│\u001b[1m                   Species \u001b[0m│\n",
      "├───────┼───────────────────────────┤\n",
      "│     1 │               G_BNT_162b2 │\n",
      "│     2 │                    T7RNAP │\n",
      "│     3 │                   M_atp_c │\n",
      "│     4 │                   M_utp_c │\n",
      "│     5 │                   M_ctp_c │\n",
      "│     6 │                   M_gtp_c │\n",
      "│     7 │            mRNA_BNT_162b2 │\n",
      "│     8 │                   M_ppi_c │\n",
      "│     9 │                   M_amp_c │\n",
      "│    10 │                   M_ump_c │\n",
      "│    11 │                   M_cmp_c │\n",
      "│    12 │                   M_gmp_c │\n",
      "│    13 │           T7RNAP_inactive │\n",
      "│    14 │      G_BNT_162b2_inactive │\n",
      "│    15 │ G_BNT_162b2_T7RNAP_closed │\n",
      "│    16 │   G_BNT_162b2_T7RNAP_open │\n",
      "└───────┴───────────────────────────┘\n"
     ]
    }
   ],
   "source": [
    "# initialize -\n",
    "species_index_table_data = Array{Any,2}(undef, ℳ, 2);\n",
    "\n",
    "# build table -\n",
    "for i ∈ 1:ℳ\n",
    "    species_index_table_data[i,1] = i;\n",
    "    species_index_table_data[i,2] = list_of_species[i];\n",
    "end\n",
    "\n",
    "# setup header -\n",
    "species_index_header_table = ([\"Index\", \"Species\"]);\n",
    "\n",
    "# build table -\n",
    "pretty_table(species_index_table_data; header=species_index_header_table);"
   ]
  },
  {
   "cell_type": "markdown",
   "id": "8f4b9bca-9d21-4f12-88fc-9eec06661610",
   "metadata": {
    "tags": []
   },
   "source": [
    "#### Setup the constants, feed rates and compositions"
   ]
  },
  {
   "cell_type": "code",
   "execution_count": 9,
   "id": "edb099ea-ee49-4e00-ad7c-9a9b2458a706",
   "metadata": {},
   "outputs": [],
   "source": [
    "# how many chips in parallel?\n",
    "number_of_chips = 20; #change this\n",
    "\n",
    "# what fraction of the mRNA degrades?\n",
    "δ = 0.10;\n",
    "\n",
    "# MSU split ratio -\n",
    "θ = 0.99; #change this\n",
    "\n",
    "# Setup constants for transcription -\n",
    "L = length(gene_sequence);\n",
    "K = 0.116; # saturation constant units: μmol/L; Source: ACS Synth. Biol. 2018, 7, 8, 1844–1857 https://doi.org/10.1021/acssynbio.7b00465\n",
    "v̇ₜ = (90.0)*(60); # units: nt/s; Source: BIND: 111871\n",
    "u = 0.95; # u-factor; Source: ACS Synth. Biol. 2018, 7, 8, 1844–1857 https://doi.org/10.1021/acssynbio.7b00465\n",
    "\n",
    "# volume -\n",
    "V = 100.0*(1/1e6); # liquid reaction volume on each chip units: L\n",
    "\n",
    "# Stock solution 1: DNA -> feed into splitter (mux) by pump 1\n",
    "# Composition of the DNA source solution (flows into the chip in stream/channel 1)\n",
    "G_BNT_162b2 = 1.0;     # gene concentration in stock solution units: μmol/L\n",
    "#can change this, but won't make a difference\n",
    "\n",
    "# Stock solution 2: PURExpress -> feed into splitter (mux) by pump 2\n",
    "# Composition of PURExpress (flows into the chip in stream/channel 2)\n",
    "T7RNAP = 100.0;          # concentration in PURExpress units: μmol/L\n",
    "M_atp_c = 100*(1e6/1e3); # concentration in PURExpress units: μmol/L\n",
    "M_utp_c = 100*(1e6/1e3); # concentration in PURExpress units: μmol/L\n",
    "M_ctp_c = 100*(1e6/1e3); # concentration in PURExpress units: μmol/L\n",
    "M_gtp_c = 100*(1e6/1e3); # concentration in PURExpress units: μmol/L\n",
    "\n",
    "# Volumetric flow rates from the pump *into* the splitter unit - our base case will 1 ml/min into the chips, thus, we need\n",
    "# to scale by the number of chips\n",
    "V̇₁ = number_of_chips*1000.0*(1/1e6); # volumetric flow rate of syringe pump 1 (this goes into splitter 1) units: L/min\n",
    "V̇₂ = number_of_chips*2000.0*(1/1e6); # volumetric flow rate of syringe pump 2 (this goes into splitter 2) units: L/min\n",
    "#change this\n",
    "\n",
    "# stuff needed for later -\n",
    "F̂₁ = V̇₁/(V̇₁+V̇₂); # do not change me\n",
    "F̂₂ = V̇₂/(V̇₁+V̇₂); # do not change me\n",
    "\n",
    "# stuff for the tables -\n",
    "current_table_counter = 0; # do not change me"
   ]
  },
  {
   "cell_type": "markdown",
   "id": "d6eba82f-57dd-47ca-a04e-42ca3e2f5dff",
   "metadata": {
    "tags": []
   },
   "source": [
    "#### Specify the inputs streams"
   ]
  },
  {
   "cell_type": "markdown",
   "id": "779f9f8b-1a29-4fa6-8d65-6f0913563ced",
   "metadata": {},
   "source": [
    "##### a) Specify the composition of feed stream 1\n",
    "By default, this stream contains only the gene encoding the mRNA BNT-162b2 product. The mainstream is split into sub-streams that are fed into each chip."
   ]
  },
  {
   "cell_type": "code",
   "execution_count": 10,
   "id": "3f5f3c3d-f73f-4449-87a2-1c0b365a5539",
   "metadata": {},
   "outputs": [],
   "source": [
    "# setup feed compostions for feed stream 1\n",
    "ṅ₁ = zeros(ℳ); # default is zero, correct specific values -\n",
    "ṅ₁[1] = G_BNT_162b2*V̇₁*(1/number_of_chips); # units: μmol/min"
   ]
  },
  {
   "cell_type": "markdown",
   "id": "bf0ded76-4123-4232-9324-6a3528923c74",
   "metadata": {},
   "source": [
    "##### b) Specify the composition of feed stream 2\n",
    "By default, feed stream 2 contains the [PURExpress](https://www.neb.com/products/e6800-purexpress-invitro-protein-synthesis-kit#Product%20Information), which has everything we need to make our mRNA product of interest _expect_ the linear DNA. The mainstream is split into sub-streams that are fed into each chip."
   ]
  },
  {
   "cell_type": "code",
   "execution_count": 11,
   "id": "816f2506-48bd-4fae-9396-2e6ea91e085e",
   "metadata": {},
   "outputs": [],
   "source": [
    "# setup feed compostions for feed stream 2\n",
    "ṅ₂ = zeros(ℳ); # default is zero, then correct specific values -\n",
    "ṅ₂[2] = T7RNAP*V̇₂*(1/number_of_chips);  # units: μmol/min\n",
    "ṅ₂[3] = M_atp_c*V̇₂*(1/number_of_chips); # units: μmol/min\n",
    "ṅ₂[4] = M_utp_c*V̇₂*(1/number_of_chips); # units: μmol/min\n",
    "ṅ₂[5] = M_ctp_c*V̇₂*(1/number_of_chips); # units: μmol/min\n",
    "ṅ₂[6] = M_gtp_c*V̇₂*(1/number_of_chips); # units: μmol/min"
   ]
  },
  {
   "cell_type": "markdown",
   "id": "eb2540d8-a0b2-467b-94ed-20df1bbc0e57",
   "metadata": {
    "tags": []
   },
   "source": [
    "### Flux balance analysis setup\n",
    "Flux balance analysis is a mathematical modeling and analysis approach that estimates the reaction rates (fluxes) throughout a steady state reaction network. Flux balance analysis uses linear programming, a method to estimate the best outcome using a mathematical model whose requirements are represented by linear relationships subject to linear constraints. \n",
    "\n",
    "The objective function is in the form:\n",
    "$$O = \\textbf{c}\\textbf{v}$$\n",
    "\n",
    "where **v** is the vector that represents the flux through all of the reactions in the network and **c** is the vector that weighs how much each reaction contributes to the objective function. In our problem, **c** is the vector [0, 0, -1, 0, 0, 0] as the third reaction, the transcription of the BNT-162b2 gene, is the one we want to maximize.\n",
    "\n",
    "The species constraints are:\n",
    "$$\\sum_{j \\in R}\\sigma_{ij}\\dot{\\epsilon}_j \\geq -\\sum_{s \\in S^+}\\dot{n}_{si} \\:\\:\\: \\forall i \\in M$$\n",
    "\n",
    "which says that the reaction can not consume more than the number of moles that are put into the reactor.\n",
    "$$\\sum_{k \\in S^-}\\dot{n}_{ki} \\geq 0 \\:\\:\\: \\forall i \\in M$$\n",
    "\n",
    "which says that the output must be non-negative. \n",
    "\n",
    "The reaction constraints for all reactions but reaction 3 are at an upper bound of 1000 μmol/min. All reactions but reactions 3 and 4 are at a lower bound of 0 μmol/min. The bounds for reaction 3 are calculated using the equality constraint:\n",
    "$$L_{3} = \\alpha\\cdot\\left(\\frac{G}{K+G}\\right)V$$\n",
    "$$\\alpha = R_{T}u\\left(\\frac{\\dot{v}}{L}\\right)$$\n",
    "\n",
    "The lower bound of reaction 4 is calculated by multiplying the bound of reaction 3 by the fraction of mRNA that degrades."
   ]
  },
  {
   "cell_type": "markdown",
   "id": "a7669082-24c8-4652-acab-31f08d82b207",
   "metadata": {},
   "source": [
    "#### Species bounds"
   ]
  },
  {
   "cell_type": "code",
   "execution_count": 12,
   "id": "954766fb-ec77-48c6-9ed1-3bf4361ef02a",
   "metadata": {},
   "outputs": [],
   "source": [
    "# species bounds array -\n",
    "species_bounds_array = [-(ṅ₁ .+ ṅ₂) 10000.0*ones(ℳ,1)];"
   ]
  },
  {
   "cell_type": "markdown",
   "id": "ed34a6d3-ff56-4651-81d5-5a57d581fa03",
   "metadata": {},
   "source": [
    "#### Reaction bounds"
   ]
  },
  {
   "cell_type": "code",
   "execution_count": 13,
   "id": "b8d99481-c895-48c7-901e-9857415df738",
   "metadata": {},
   "outputs": [],
   "source": [
    "# initialize -\n",
    "flux_bounds_array = zeros(ℛ,2);\n",
    "flux_bounds_array[:,2] .= 1000.0; # large default upper bound\n",
    "\n",
    "# Get the RNAP and GENE concentration -\n",
    "Rₜ = T7RNAP*F̂₂;        # effective RNAP concentratation on the chip for the bounds units: μmol/L\n",
    "GENE = G_BNT_162b2*F̂₁ # effective GENE concentratation on the chip for the bounds units: μmol/L\n",
    "\n",
    "# Setup bounds for transcription -\n",
    "flux_bounds_array[3,:] .= Rₜ*(v̇ₜ/L)*u*(GENE/(K+GENE))*V; # equality constraint\n",
    "\n",
    "# Setup bound for degradation (lower bound)\n",
    "flux_bounds_array[4,1] = δ*flux_bounds_array[3,1];"
   ]
  },
  {
   "cell_type": "code",
   "execution_count": 14,
   "id": "818f4ec9-d726-4165-b2ec-0d813dbf2b87",
   "metadata": {
    "tags": []
   },
   "outputs": [
    {
     "name": "stdout",
     "output_type": "stream",
     "text": [
      "\u001b[1mTable 1: Reaction index-name mapping table.\u001b[0m\n",
      "┌───────┬────────────────────────────┬─────────────┬─────────────┐\n",
      "│\u001b[1m Index \u001b[0m│\u001b[1m                   Reaction \u001b[0m│\u001b[1m lower bound \u001b[0m│\u001b[1m upper bound \u001b[0m│\n",
      "│\u001b[90m       \u001b[0m│\u001b[90m                            \u001b[0m│\u001b[90m    μmol/min \u001b[0m│\u001b[90m    μmol/min \u001b[0m│\n",
      "├───────┼────────────────────────────┼─────────────┼─────────────┤\n",
      "│     1 │       TX_BNT_162b2_binding │         0.0 │      1000.0 │\n",
      "│     2 │          TX_BNT_162b2_open │         0.0 │      1000.0 │\n",
      "│     3 │    BNT_162b2_transcription │  0.00607687 │  0.00607687 │\n",
      "│     4 │ mRNA_BNT_162b2_degradation │ 0.000607687 │      1000.0 │\n",
      "│     5 │          RNAP_deactivation │         0.0 │      1000.0 │\n",
      "│     6 │          GENE_deactivation │         0.0 │      1000.0 │\n",
      "└───────┴────────────────────────────┴─────────────┴─────────────┘\n"
     ]
    }
   ],
   "source": [
    "# initialize -\n",
    "reaction_index_table_data = Array{Any,2}(undef, ℛ, 4);\n",
    "\n",
    "# build table -\n",
    "for i ∈ 1:ℛ\n",
    "    reaction_index_table_data[i,1] = i;\n",
    "    reaction_index_table_data[i,2] = list_of_reactions[i];\n",
    "    reaction_index_table_data[i,3] = flux_bounds_array[i,1];\n",
    "    reaction_index_table_data[i,4] = flux_bounds_array[i,2];\n",
    "end\n",
    "\n",
    "# setup title string -\n",
    "reaction_table_title = \"Table $(current_table_counter+=1): Reaction index-name mapping table.\"\n",
    "\n",
    "# setup header -\n",
    "reaction_index_header_table = ([\"Index\", \"Reaction\", \"lower bound\", \"upper bound\"], [\"\", \"\", \"μmol/min\", \"μmol/min\"]);\n",
    "\n",
    "# build table -\n",
    "pretty_table(reaction_index_table_data, title=reaction_table_title; header=reaction_index_header_table);"
   ]
  },
  {
   "cell_type": "markdown",
   "id": "f966f46c-43ff-4476-ba47-341f0ebc3012",
   "metadata": {},
   "source": [
    "#### Objective coefficient array\n",
    "The objective used is represented by the function in the follwing form:\n",
    "$$O = \\textbf{c}\\textbf{v}$$\n",
    "\n",
    "where **v** is the vector that represents the flux through all of the reactions in the network and **c** is the vector that weighs how much each reaction contributes to the objective function. In our problem, **c** is the vector [0, 0, -1, 0, 0, 0] as the third reaction, the transcription of the BNT-162b2 gene, is the one we want to maximize.\n"
   ]
  },
  {
   "cell_type": "code",
   "execution_count": 15,
   "id": "0bb000a0-1e21-4a67-ba7b-04e67221fbb3",
   "metadata": {},
   "outputs": [],
   "source": [
    "# setup the objective coefficient array -\n",
    "obj_vector = zeros(ℛ);\n",
    "obj_vector[3] = -1; # why negative?"
   ]
  },
  {
   "cell_type": "markdown",
   "id": "4faa535b-6df1-4931-b033-0d4e0a165d90",
   "metadata": {
    "tags": []
   },
   "source": [
    "## Results and Discussion "
   ]
  },
  {
   "cell_type": "markdown",
   "id": "d7d1ae72-a727-496a-a2c7-c54fd9c0f1b2",
   "metadata": {},
   "source": [
    "### Compute the optimal extent of reaction and exit stream composition per chip"
   ]
  },
  {
   "cell_type": "code",
   "execution_count": 16,
   "id": "76ee9bc7-4724-40b8-9685-90363ac19e0f",
   "metadata": {
    "tags": []
   },
   "outputs": [],
   "source": [
    "# compute the optimal flux, and then estimate the output on the chip\n",
    "result = compute_optimal_extent(S, flux_bounds_array, species_bounds_array, obj_vector);\n",
    "\n",
    "# build a system stream table -\n",
    "ϵ̇ = result.calculated_flux_array;\n",
    "\n",
    "# compute the output -\n",
    "ṅ₃ = (ṅ₁ + ṅ₂) + S*ϵ̇;\n",
    "\n",
    "# compute the Δ reaction -\n",
    "Δ = S*ϵ̇;\n",
    "\n",
    "# get the exit and status flags to make sure all is ok\n",
    "exit_flag = result.exit_flag;\n",
    "status_flag = result.status_flag;"
   ]
  },
  {
   "cell_type": "code",
   "execution_count": 17,
   "id": "aae47456-162f-462b-b7ec-3f264789c815",
   "metadata": {
    "tags": []
   },
   "outputs": [
    {
     "name": "stdout",
     "output_type": "stream",
     "text": [
      "\u001b[1mTable 2: Single chip species mole flow rates table; Streams 1 and 2 are inputs, stream 3 is the chip output. \n",
      "The solver returned the exit flag = 0 and status_flag = 5\u001b[0m\n",
      "┌───────────────────────────┬─────────┬────────────┬────────────┬────────────┬────────────┐\n",
      "│\u001b[1m                   Species \u001b[0m│\u001b[1m index i \u001b[0m│\u001b[1m       ṅ₁,ᵢ \u001b[0m│\u001b[1m       ṅ₂,ᵢ \u001b[0m│\u001b[1m       ṅ₃,ᵢ \u001b[0m│\u001b[1m          Δ \u001b[0m│\n",
      "│\u001b[90m                           \u001b[0m│\u001b[90m         \u001b[0m│\u001b[90m (μmol/min) \u001b[0m│\u001b[90m (μmol/min) \u001b[0m│\u001b[90m (μmol/min) \u001b[0m│\u001b[90m (μmol/min) \u001b[0m│\n",
      "├───────────────────────────┼─────────┼────────────┼────────────┼────────────┼────────────┤\n",
      "│               G_BNT_162b2 │       1 │      0.001 │        0.0 │      0.001 │        0.0 │\n",
      "│                    T7RNAP │       2 │        0.0 │        0.2 │        0.2 │        0.0 │\n",
      "│                   M_atp_c │       3 │        0.0 │      200.0 │    195.151 │     -4.849 │\n",
      "│                   M_utp_c │       4 │        0.0 │      200.0 │    193.899 │     -6.101 │\n",
      "│                   M_ctp_c │       5 │        0.0 │      200.0 │    193.559 │     -6.441 │\n",
      "│                   M_gtp_c │       6 │        0.0 │      200.0 │    192.027 │     -7.973 │\n",
      "│            mRNA_BNT_162b2 │       7 │        0.0 │        0.0 │      0.005 │      0.005 │\n",
      "│                   M_ppi_c │       8 │        0.0 │        0.0 │     25.365 │     25.365 │\n",
      "│                   M_amp_c │       9 │        0.0 │        0.0 │      0.485 │      0.485 │\n",
      "│                   M_ump_c │      10 │        0.0 │        0.0 │       0.61 │       0.61 │\n",
      "│                   M_cmp_c │      11 │        0.0 │        0.0 │      0.644 │      0.644 │\n",
      "│                   M_gmp_c │      12 │        0.0 │        0.0 │      0.797 │      0.797 │\n",
      "│           T7RNAP_inactive │      13 │        0.0 │        0.0 │        0.0 │        0.0 │\n",
      "│      G_BNT_162b2_inactive │      14 │        0.0 │        0.0 │        0.0 │        0.0 │\n",
      "│ G_BNT_162b2_T7RNAP_closed │      15 │        0.0 │        0.0 │        0.0 │        0.0 │\n",
      "│   G_BNT_162b2_T7RNAP_open │      16 │        0.0 │        0.0 │        0.0 │        0.0 │\n",
      "└───────────────────────────┴─────────┴────────────┴────────────┴────────────┴────────────┘\n"
     ]
    }
   ],
   "source": [
    "system_flux_table_data = Array{Any,2}(undef, ℳ, 6);\n",
    "\n",
    "# populate the table -\n",
    "for i ∈ 1:ℳ\n",
    "    system_flux_table_data[i,1] = list_of_species[i];\n",
    "    system_flux_table_data[i,2] = i;\n",
    "    system_flux_table_data[i,3] = ṅ₁[i];\n",
    "    system_flux_table_data[i,4] = ṅ₂[i];\n",
    "    system_flux_table_data[i,5] = round(ṅ₃[i], digits=3);\n",
    "    system_flux_table_data[i,6] = round(Δ[i], digits=3);\n",
    "end\n",
    "\n",
    "# title -\n",
    "species_mft_table_title = \"Table $(current_table_counter+=1): Single chip species mole flow rates table; Streams 1 and 2 are inputs, stream 3 is the chip output. \n",
    "The solver returned the exit flag = $(exit_flag) and status_flag = $(status_flag)\"\n",
    "\n",
    "# header -\n",
    "state_table_header = (\n",
    "    [\"Species\", \"index i\", \"ṅ₁,ᵢ\", \"ṅ₂,ᵢ\", \"ṅ₃,ᵢ\", \"Δ\"], \n",
    "    [\"\",\"\",\"(μmol/min)\", \"(μmol/min)\", \"(μmol/min)\", \"(μmol/min)\"]\n",
    ");\n",
    "\n",
    "# show -\n",
    "pretty_table(system_flux_table_data, title=species_mft_table_title; header = state_table_header)"
   ]
  },
  {
   "cell_type": "markdown",
   "id": "e87e7984-92b8-426d-a0b0-56126f75bc1c",
   "metadata": {},
   "source": [
    "### Design a downstream seperation using Magical Seperator Units (MSU)"
   ]
  },
  {
   "cell_type": "code",
   "execution_count": 18,
   "id": "182cd067-ea09-464b-8aed-2f560622864a",
   "metadata": {},
   "outputs": [],
   "source": [
    "# build a downstream seperation process with this number of levels:\n",
    "number_of_levels = 5; # includes zero\n",
    "#change this"
   ]
  },
  {
   "cell_type": "code",
   "execution_count": 19,
   "id": "f5456b44-0f35-4d9f-b0df-85afc56ecc74",
   "metadata": {
    "tags": []
   },
   "outputs": [
    {
     "name": "stdout",
     "output_type": "stream",
     "text": [
      "\u001b[1mTable 3: Magical Seperator Unit (MSU) flow table; N0 denotes the feed while N⋆ denotes the leaves of the tree.\u001b[0m\n",
      "┌───────────────────────────┬─────────┬──────────┬────────────┬─────────────┬─────────────┬────────────┬────────────┐\n",
      "│\u001b[1m                   Species \u001b[0m│\u001b[1m index i \u001b[0m│\u001b[1m       N0 \u001b[0m│\u001b[1m        N11 \u001b[0m│\u001b[1m         N12 \u001b[0m│\u001b[1m         N13 \u001b[0m│\u001b[1m        N14 \u001b[0m│\u001b[1m        N15 \u001b[0m│\n",
      "│\u001b[90m                           \u001b[0m│\u001b[90m         \u001b[0m│\u001b[90m μmol/min \u001b[0m│\u001b[90m   μmol/min \u001b[0m│\u001b[90m    μmol/min \u001b[0m│\u001b[90m    μmol/min \u001b[0m│\u001b[90m   μmol/min \u001b[0m│\u001b[90m   μmol/min \u001b[0m│\n",
      "├───────────────────────────┼─────────┼──────────┼────────────┼─────────────┼─────────────┼────────────┼────────────┤\n",
      "│               G_BNT_162b2 │       1 │     0.02 │    2.0e-10 │     1.98e-8 │   1.9602e-6 │ 0.00019406 │  0.0192119 │\n",
      "│                    T7RNAP │       2 │      4.0 │     4.0e-8 │     3.96e-6 │  0.00039204 │   0.038812 │    3.84238 │\n",
      "│                   M_atp_c │       3 │  3903.01 │ 3.90301e-5 │  0.00386398 │    0.382534 │    37.8709 │    3749.22 │\n",
      "│                   M_utp_c │       4 │  3877.98 │ 3.87798e-5 │   0.0038392 │     0.38008 │     37.628 │    3725.17 │\n",
      "│                   M_ctp_c │       5 │  3871.17 │ 3.87117e-5 │  0.00383246 │    0.379413 │    37.5619 │    3718.63 │\n",
      "│                   M_gtp_c │       6 │  3840.54 │ 3.84054e-5 │  0.00380214 │    0.376412 │    37.2648 │    3689.21 │\n",
      "│            mRNA_BNT_162b2 │       7 │ 0.109384 │   0.105073 │  0.00106135 │  1.07207e-5 │  1.0829e-7 │ 1.09384e-9 │\n",
      "│                   M_ppi_c │       8 │  507.297 │ 5.07297e-6 │ 0.000502224 │   0.0497202 │     4.9223 │    487.307 │\n",
      "│                   M_amp_c │       9 │  9.69868 │ 9.69868e-8 │  9.60169e-6 │ 0.000950568 │  0.0941062 │    9.31651 │\n",
      "│                   M_ump_c │      10 │  12.2023 │ 1.22023e-7 │  1.20803e-5 │  0.00119595 │   0.118399 │    11.7215 │\n",
      "│                   M_cmp_c │      11 │   12.883 │  1.2883e-7 │  1.27541e-5 │  0.00126266 │   0.125003 │    12.3753 │\n",
      "│                   M_gmp_c │      12 │  15.9457 │ 1.59457e-7 │  1.57862e-5 │  0.00156284 │   0.154721 │    15.3174 │\n",
      "│           T7RNAP_inactive │      13 │      0.0 │        0.0 │         0.0 │         0.0 │        0.0 │        0.0 │\n",
      "│      G_BNT_162b2_inactive │      14 │      0.0 │        0.0 │         0.0 │         0.0 │        0.0 │        0.0 │\n",
      "│ G_BNT_162b2_T7RNAP_closed │      15 │      0.0 │        0.0 │         0.0 │         0.0 │        0.0 │        0.0 │\n",
      "│   G_BNT_162b2_T7RNAP_open │      16 │      0.0 │        0.0 │         0.0 │         0.0 │        0.0 │        0.0 │\n",
      "└───────────────────────────┴─────────┴──────────┴────────────┴─────────────┴─────────────┴────────────┴────────────┘\n"
     ]
    }
   ],
   "source": [
    "# initialize -\n",
    "tmp_storage_dict = Dict{Int64, MSULatticeModel}();\n",
    "\n",
    "# is_product_vector -\n",
    "is_product_vector = zeros(ℳ);\n",
    "is_product_vector[7] = 1;\n",
    "\n",
    "# compute the composition array -\n",
    "for i ∈ 1:ℳ\n",
    "\n",
    "    if (is_product_vector[i] == 1)\n",
    "        msu_lattice_model = build(MSULatticeModel; ṅₒ = (number_of_chips)*ṅ₃[i], L = number_of_levels , u = θ, d = (1 - θ));\n",
    "    else\n",
    "        msu_lattice_model = build(MSULatticeModel; ṅₒ = (number_of_chips)*ṅ₃[i], L = number_of_levels , u = (1 - θ), d = θ);\n",
    "    end\n",
    "    \n",
    "    # grab -\n",
    "    tmp_storage_dict[i] = msu_lattice_model;\n",
    "end\n",
    "\n",
    "# grab the leaves -\n",
    "nodes_dict = build_nodes_dictionary(number_of_levels);\n",
    "children_dict = build_children_dictionary(nodes_dict);\n",
    "tree_leaves = nodes_dict[number_of_levels-1];\n",
    "\n",
    "# build a composition array -\n",
    "number_of_nodes = length(tree_leaves);\n",
    "composition_array = Array{Float64,2}(undef, number_of_nodes, ℳ);\n",
    "for i ∈ 1:ℳ\n",
    "    data = tmp_storage_dict[i].data;\n",
    "    for j ∈ 1:number_of_nodes\n",
    "        composition_array[j,i] = data[tree_leaves[j]]\n",
    "    end\n",
    "end\n",
    "\n",
    "# make a pretty table and show the leaves of the tree -\n",
    "\n",
    "# initialize -\n",
    "sep_tree_flow_table_data = Array{Any,2}(undef, ℳ, length(tree_leaves) + 3)\n",
    "for i ∈ 1:ℳ\n",
    "    sep_tree_flow_table_data[i,1] = list_of_species[i];\n",
    "    sep_tree_flow_table_data[i,2] = i;\n",
    "    sep_tree_flow_table_data[i,3] = (number_of_chips)*ṅ₃[i] # put node 0 in table -\n",
    "        \n",
    "    for j ∈ 1:length(tree_leaves)\n",
    "        sep_tree_flow_table_data[i,3+j] = composition_array[j,i]\n",
    "    end\n",
    "end\n",
    "\n",
    "# labels row -\n",
    "label_row = Array{String,1}();\n",
    "push!(label_row,\"Species\");\n",
    "push!(label_row,\"index i\")\n",
    "push!(label_row,\"N0\")\n",
    "for j ∈ 1:length(tree_leaves)\n",
    "    push!(label_row, \"N$(tree_leaves[j])\");\n",
    "end\n",
    "\n",
    "# units row -\n",
    "units_row = Array{String,1}();\n",
    "push!(units_row, \"\");\n",
    "push!(units_row, \"\");\n",
    "for j ∈ 1:length(tree_leaves)+1\n",
    "    push!(units_row, \"μmol/min\");\n",
    "end\n",
    "\n",
    "# header -\n",
    "sep_tree_flow_table_header = (label_row, units_row);\n",
    "\n",
    "# set title -\n",
    "title = \"Table $(current_table_counter+=1): Magical Seperator Unit (MSU) flow table; N0 denotes the feed while N⋆ denotes the leaves of the tree.\"\n",
    "\n",
    "# show -\n",
    "pretty_table(sep_tree_flow_table_data, title=title; header=sep_tree_flow_table_header)"
   ]
  },
  {
   "cell_type": "code",
   "execution_count": 20,
   "id": "3a8b3f45-6f00-4201-9418-407810432f4c",
   "metadata": {
    "tags": []
   },
   "outputs": [
    {
     "name": "stdout",
     "output_type": "stream",
     "text": [
      "\u001b[1mTable 4: Magical Seperator Unit (MSU) composition table.\u001b[0m\n",
      "┌───────────────────────────┬─────────┬───────────┬───────────┬───────────┬───────────┬───────────┬───────────┐\n",
      "│\u001b[1m                   Species \u001b[0m│\u001b[1m index i \u001b[0m│\u001b[1m        N0 \u001b[0m│\u001b[1m       N11 \u001b[0m│\u001b[1m       N12 \u001b[0m│\u001b[1m       N13 \u001b[0m│\u001b[1m       N14 \u001b[0m│\u001b[1m       N15 \u001b[0m│\n",
      "│\u001b[90m                           \u001b[0m│\u001b[90m         \u001b[0m│\u001b[90m mole frac \u001b[0m│\u001b[90m mole frac \u001b[0m│\u001b[90m mole frac \u001b[0m│\u001b[90m mole frac \u001b[0m│\u001b[90m mole frac \u001b[0m│\u001b[90m mole frac \u001b[0m│\n",
      "├───────────────────────────┼─────────┼───────────┼───────────┼───────────┼───────────┼───────────┼───────────┤\n",
      "│               G_BNT_162b2 │       1 │       0.0 │       0.0 │       0.0 │       0.0 │       0.0 │       0.0 │\n",
      "│                    T7RNAP │       2 │    0.0002 │       0.0 │    0.0002 │    0.0002 │    0.0002 │    0.0002 │\n",
      "│                   M_atp_c │       3 │    0.2431 │    0.0004 │    0.2279 │    0.2431 │    0.2431 │    0.2431 │\n",
      "│                   M_utp_c │       4 │    0.2415 │    0.0004 │    0.2264 │    0.2415 │    0.2415 │    0.2415 │\n",
      "│                   M_ctp_c │       5 │    0.2411 │    0.0004 │     0.226 │    0.2411 │    0.2411 │    0.2411 │\n",
      "│                   M_gtp_c │       6 │    0.2392 │    0.0004 │    0.2242 │    0.2392 │    0.2392 │    0.2392 │\n",
      "│            mRNA_BNT_162b2 │       7 │       0.0 │    0.9985 │    0.0626 │       0.0 │       0.0 │       0.0 │\n",
      "│                   M_ppi_c │       8 │    0.0316 │       0.0 │    0.0296 │    0.0316 │    0.0316 │    0.0316 │\n",
      "│                   M_amp_c │       9 │    0.0006 │       0.0 │    0.0006 │    0.0006 │    0.0006 │    0.0006 │\n",
      "│                   M_ump_c │      10 │    0.0008 │       0.0 │    0.0007 │    0.0008 │    0.0008 │    0.0008 │\n",
      "│                   M_cmp_c │      11 │    0.0008 │       0.0 │    0.0008 │    0.0008 │    0.0008 │    0.0008 │\n",
      "│                   M_gmp_c │      12 │     0.001 │       0.0 │    0.0009 │     0.001 │     0.001 │     0.001 │\n",
      "│           T7RNAP_inactive │      13 │       0.0 │       0.0 │       0.0 │       0.0 │       0.0 │       0.0 │\n",
      "│      G_BNT_162b2_inactive │      14 │       0.0 │       0.0 │       0.0 │       0.0 │       0.0 │       0.0 │\n",
      "│ G_BNT_162b2_T7RNAP_closed │      15 │       0.0 │       0.0 │       0.0 │       0.0 │       0.0 │       0.0 │\n",
      "│   G_BNT_162b2_T7RNAP_open │      16 │       0.0 │       0.0 │       0.0 │       0.0 │       0.0 │       0.0 │\n",
      "└───────────────────────────┴─────────┴───────────┴───────────┴───────────┴───────────┴───────────┴───────────┘\n"
     ]
    }
   ],
   "source": [
    "# build mol frac composition table -\n",
    "\n",
    "# construct mol frac array -\n",
    "mol_frac_array = Array{Float64,2}(undef, ℳ, length(tree_leaves)+1);\n",
    "\n",
    "# node 0 -\n",
    "ṅ₃_total = sum(ṅ₃);\n",
    "for i ∈ 1:ℳ\n",
    "    mol_frac_array[i,1] = ṅ₃[i]*(1/ṅ₃_total);    \n",
    "end\n",
    "\n",
    "# get the sums along rows -\n",
    "ṅ_total = sum(composition_array,dims = 2);\n",
    "for node ∈ 1:length(tree_leaves)\n",
    "    for i ∈ 1:ℳ\n",
    "        mol_frac_array[i,node+1] = composition_array[node,i]*(1/ṅ_total[node]);\n",
    "    end\n",
    "end\n",
    "\n",
    "# initialize -\n",
    "sep_tree_mol_frac_table_data = Array{Any,2}(undef, ℳ, length(tree_leaves) + 3)\n",
    "for i ∈ 1:ℳ\n",
    "    sep_tree_mol_frac_table_data[i,1] = list_of_species[i];\n",
    "    sep_tree_mol_frac_table_data[i,2] = i;\n",
    "    sep_tree_mol_frac_table_data[i,3] = round(mol_frac_array[i,1], digits=4) # put node 0 in table -\n",
    "        \n",
    "    for j ∈ 1:length(tree_leaves)\n",
    "        sep_tree_mol_frac_table_data[i, 3+j] = round(mol_frac_array[i,j+1], digits=4)\n",
    "    end\n",
    "end\n",
    "\n",
    "# labels row -\n",
    "label_mft_row = Array{String,1}();\n",
    "push!(label_mft_row,\"Species\");\n",
    "push!(label_mft_row,\"index i\")\n",
    "push!(label_mft_row,\"N0\")\n",
    "for j ∈ 1:length(tree_leaves)\n",
    "    push!(label_mft_row, \"N$(tree_leaves[j])\");\n",
    "end\n",
    "\n",
    "# units row -\n",
    "units_mft_row = Array{String,1}();\n",
    "push!(units_mft_row, \"\");\n",
    "push!(units_mft_row, \"\");\n",
    "for j ∈ 1:length(tree_leaves)+1\n",
    "    push!(units_mft_row, \"mole frac\");\n",
    "end\n",
    "\n",
    "# header -\n",
    "sep_tree_mft_table_header = (label_mft_row, units_mft_row);\n",
    "\n",
    "# set title -\n",
    "title_mft = \"Table $(current_table_counter+=1): Magical Seperator Unit (MSU) composition table.\"\n",
    "\n",
    "# show -\n",
    "pretty_table(sep_tree_mol_frac_table_data, title=title_mft; header=sep_tree_mft_table_header)"
   ]
  },
  {
   "cell_type": "markdown",
   "id": "1c6fe5c9-bbbf-4e7b-865b-f04a967a9997",
   "metadata": {},
   "source": [
    "### Financial analysis\n",
    "\n",
    "The Net Present Value was calculated using the equation:\n",
    "$$NPV = CF_1 + \\sum_{t = 2}^{T}D^{-1}_{t,1} \\cdot CF_t$$\n",
    "\n",
    "where D is the discount factor:\n",
    "$$D^{-1}_{i1} = \\frac{1}{(1 + \\bar{r})^{i - 1}}$$\n",
    "\n",
    "For our project:\n",
    "* The equipment cost was $6,225.00\n",
    "* The cost for materials was $137,894,400.00 per year\n",
    "* All materials for 5 years was bought during the first year\n",
    "* The system was run for every minute of 252 days (362880 minutes/year)\n",
    "* The discount rate was 4.1%\n",
    "* NPV was calculated for 5 years\n",
    "\n",
    "To find the price of the mRNA for a NPV equal to zero, the following equation was solved for x:\n",
    "$$0 = -689,478,225.00 + 38128.89024x \\cdot 0.9606 + 38128.89024x \\cdot 0.9228 + 38128.89024x \\cdot 0.8864 + 38128.89024x \\cdot 0.8515$$\n",
    "\n",
    "The mRNA should be sold at **$4,993.39 per μmol of mRNA** to have a NPV equal to zero. The cost spreadsheet and calculations for this price are found in the following google sheet: \n",
    "https://docs.google.com/spreadsheets/d/1II-YSs7saP8NjdGKsr1J6A8BUkIcHh4MGydMtC_1Wsk/edit?usp=sharing\n",
    "\n",
    "The main cost of the project is from PureExpress. One way to reduce this cost is to recycle the PureExpress that is in the lower nodes of the magical separator units as that mixture is almost all PureExpress. This would reduce the amount of PureExpress we need to buy and reduce the expenses. "
   ]
  },
  {
   "cell_type": "markdown",
   "id": "9b5013d4-e85f-4d8c-9da3-b32e8d79c50d",
   "metadata": {},
   "source": [
    "## Summary and conclusions\n",
    "The Parallel Cell-free Production and Recovery of the mRNA BNT-162b2 Vaccine was achieved through the designing of a continuous production process that produced a 99% pure mRNA molecule (by moles) at a target rate of 0.1 µmol/min. Increasing the number of chips to 20 chips operating in parallel allowed the flow rate to reach the goal of 0.1 micromoles per minute. The Magical Separator Units split ratio of 0.99 shows the use of 99% effective cells. Choosing this efficiency allowed for the 99% purity goal to be achieved at a reasonable price, compared to the fifty times larger price per cell the 100% efficient cells would cost. The volumetric flow rate for syringe pump 2 was multiplied by 2 in order to allow for the input of more PURExpress, which in turn increased the flow rate of the product to the desired 0.1 µmol/min . Experimentally, a larger flow rate would also achieve the desired results, however the flow rate chosen lowers the financial cost of the process. The five levels of magical separating units (starting at zero) was the minimum amount of separation levels that allowed the 99% purity of mRNA to be achieved. In order to improve this design, different solutions could be tested in order to decrease the overall cost of the process. These changes could include the number of chips, MSU split ratio, the flow rates of both pumps, as well as the number of levels of MSUs. One way to decrease the price of the proposed solution would be to recycle the PURExpress collected in the storage unit located under the MSU cells, which contains an overwhelming majority of PURExpress. Since this material is the highest costing aspect of the process, recycling it to feed into the chips again could save a large amount of money. In addition, Pfizer might find a way to synthesize their own PURExpress material, further saving the cost of purchasing from an outside source. Overall, the proposed process yields a yearly profit of $52,498,019.24, making it a feasible solution."
   ]
  },
  {
   "cell_type": "markdown",
   "id": "0ce74f58-3061-4901-b988-0beb2980a20c",
   "metadata": {},
   "source": [
    "## References and Additional Resources\n",
    "* 1120 Course Textbook: https://varnerlab.github.io/ENGRI-1120-IntroToChemE-Book/intro.html\n",
    "* Orth, J., Thiele, I. & Palsson, B. What is flux balance analysis?. Nat Biotechnol 28, 245–248 (2010). https://doi.org/10.1038/nbt.1614\n",
    "* Lamb, Y.N. BNT162b2 mRNA COVID-19 Vaccine: First Approval. Drugs 81, 495–501 (2021). https://doi.org/10.1007/s40265-021-01480-7\n",
    "* McCarthy, N., &amp; Richter, F. (2021, February 16). Which Covid-19 Vaccines Are Most Widely Used? Statista Infographics. https://www.statista.com/chart/24191/number-of-countries-using-selected-covid-19-vaccines/ \n",
    "* Summary of the Public Assessment Report for COVID-19 vaccine Pfizer/BioNTech. gov.uk. (2022, December 9). https://www.gov.uk/government/publications/regulatory-approval-of-pfizer-biontech-vaccine-for-covid-19/summary-public-assessment-report-for-pfizerbiontech-covid-19-vaccine "
   ]
  }
 ],
 "metadata": {
  "kernelspec": {
   "display_name": "Julia 1.8.0",
   "language": "julia",
   "name": "julia-1.8"
  },
  "language_info": {
   "file_extension": ".jl",
   "mimetype": "application/julia",
   "name": "julia",
   "version": "1.8.0"
  }
 },
 "nbformat": 4,
 "nbformat_minor": 5
}
