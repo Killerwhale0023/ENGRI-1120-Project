{
 "cells": [
  {
   "cell_type": "code",
   "execution_count": null,
   "id": "1e1ac7ef-35c4-4a96-82a4-972a86b84d69",
   "metadata": {},
   "outputs": [],
   "source": []
  }
 ],
 "metadata": {
  "kernelspec": {
   "display_name": "Julia 1.8.0",
   "language": "julia",
   "name": "julia-1.8"
  },
  "language_info": {
   "file_extension": ".jl",
   "mimetype": "application/julia",
   "name": "julia",
   "version": "1.8.0"
  }
 },
 "nbformat": 4,
 "nbformat_minor": 5
}
